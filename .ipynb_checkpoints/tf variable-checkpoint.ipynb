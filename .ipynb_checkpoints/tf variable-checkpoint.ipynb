{
 "cells": [
  {
   "cell_type": "code",
   "execution_count": 1,
   "id": "30baf28d",
   "metadata": {},
   "outputs": [],
   "source": [
    "import tensorflow as tf\n",
    "import numpy as np"
   ]
  },
  {
   "cell_type": "code",
   "execution_count": 2,
   "id": "fd3a39e0",
   "metadata": {},
   "outputs": [
    {
     "data": {
      "text/plain": [
       "<tf.Variable 'Variable:0' shape=() dtype=int32, numpy=1>"
      ]
     },
     "execution_count": 2,
     "metadata": {},
     "output_type": "execute_result"
    }
   ],
   "source": [
    "tf.Variable(1)"
   ]
  },
  {
   "cell_type": "code",
   "execution_count": 3,
   "id": "6010947a",
   "metadata": {},
   "outputs": [],
   "source": [
    "a=tf.Variable([3,4,5,6])"
   ]
  },
  {
   "cell_type": "code",
   "execution_count": 4,
   "id": "4829ad6f",
   "metadata": {},
   "outputs": [
    {
     "data": {
      "text/plain": [
       "TensorShape([4])"
      ]
     },
     "execution_count": 4,
     "metadata": {},
     "output_type": "execute_result"
    }
   ],
   "source": [
    "a.shape"
   ]
  },
  {
   "cell_type": "code",
   "execution_count": 5,
   "id": "ab0a66c2",
   "metadata": {},
   "outputs": [
    {
     "data": {
      "text/plain": [
       "tf.int32"
      ]
     },
     "execution_count": 5,
     "metadata": {},
     "output_type": "execute_result"
    }
   ],
   "source": [
    "a.dtype"
   ]
  },
  {
   "cell_type": "code",
   "execution_count": 6,
   "id": "d02b7f48",
   "metadata": {},
   "outputs": [
    {
     "data": {
      "text/plain": [
       "array([3, 4, 5, 6])"
      ]
     },
     "execution_count": 6,
     "metadata": {},
     "output_type": "execute_result"
    }
   ],
   "source": [
    "a.numpy()"
   ]
  },
  {
   "cell_type": "code",
   "execution_count": 7,
   "id": "483224aa",
   "metadata": {},
   "outputs": [
    {
     "data": {
      "text/plain": [
       "tensorflow.python.ops.resource_variable_ops.ResourceVariable"
      ]
     },
     "execution_count": 7,
     "metadata": {},
     "output_type": "execute_result"
    }
   ],
   "source": [
    "type(a)"
   ]
  },
  {
   "cell_type": "code",
   "execution_count": 8,
   "id": "5d226ec4",
   "metadata": {},
   "outputs": [],
   "source": [
    "a=tf.Variable(np.array([3,4,5,6]))"
   ]
  },
  {
   "cell_type": "code",
   "execution_count": 9,
   "id": "8355c61f",
   "metadata": {},
   "outputs": [
    {
     "data": {
      "text/plain": [
       "<tf.Variable 'Variable:0' shape=(4,) dtype=int32, numpy=array([3, 4, 5, 6])>"
      ]
     },
     "execution_count": 9,
     "metadata": {},
     "output_type": "execute_result"
    }
   ],
   "source": [
    "a"
   ]
  },
  {
   "cell_type": "code",
   "execution_count": 11,
   "id": "98e63a1b",
   "metadata": {},
   "outputs": [],
   "source": [
    "t_f=tf.Variable([1.2,2,3,4,5])"
   ]
  },
  {
   "cell_type": "code",
   "execution_count": 12,
   "id": "af6212d7",
   "metadata": {},
   "outputs": [
    {
     "data": {
      "text/plain": [
       "<tf.Variable 'Variable:0' shape=(5,) dtype=float32, numpy=array([1.2, 2. , 3. , 4. , 5. ], dtype=float32)>"
      ]
     },
     "execution_count": 12,
     "metadata": {},
     "output_type": "execute_result"
    }
   ],
   "source": [
    "t_f"
   ]
  },
  {
   "cell_type": "code",
   "execution_count": 14,
   "id": "068e96e6",
   "metadata": {},
   "outputs": [],
   "source": [
    "t_s=tf.Variable([\"a\",\"b\",\"c\",\"d\"])"
   ]
  },
  {
   "cell_type": "code",
   "execution_count": 15,
   "id": "838c5207",
   "metadata": {},
   "outputs": [
    {
     "data": {
      "text/plain": [
       "<tf.Variable 'Variable:0' shape=(4,) dtype=string, numpy=array([b'a', b'b', b'c', b'd'], dtype=object)>"
      ]
     },
     "execution_count": 15,
     "metadata": {},
     "output_type": "execute_result"
    }
   ],
   "source": [
    "t_s"
   ]
  },
  {
   "cell_type": "code",
   "execution_count": 16,
   "id": "c33a38ff",
   "metadata": {},
   "outputs": [],
   "source": [
    "t_b=tf.Variable([True,False])"
   ]
  },
  {
   "cell_type": "code",
   "execution_count": 17,
   "id": "16fa7a43",
   "metadata": {},
   "outputs": [
    {
     "data": {
      "text/plain": [
       "<tf.Variable 'Variable:0' shape=(2,) dtype=bool, numpy=array([ True, False])>"
      ]
     },
     "execution_count": 17,
     "metadata": {},
     "output_type": "execute_result"
    }
   ],
   "source": [
    "t_b"
   ]
  },
  {
   "cell_type": "code",
   "execution_count": 19,
   "id": "261c1fc6",
   "metadata": {},
   "outputs": [],
   "source": [
    "t_cx=tf.Variable([3+4j])"
   ]
  },
  {
   "cell_type": "code",
   "execution_count": 20,
   "id": "33b90c75",
   "metadata": {},
   "outputs": [
    {
     "data": {
      "text/plain": [
       "<tf.Variable 'Variable:0' shape=(1,) dtype=complex128, numpy=array([3.+4.j])>"
      ]
     },
     "execution_count": 20,
     "metadata": {},
     "output_type": "execute_result"
    }
   ],
   "source": [
    "t_cx"
   ]
  },
  {
   "cell_type": "markdown",
   "id": "4f0a854d",
   "metadata": {},
   "source": [
    "# Create tf from constant tensorflow variable"
   ]
  },
  {
   "cell_type": "code",
   "execution_count": 21,
   "id": "15556649",
   "metadata": {},
   "outputs": [],
   "source": [
    "t_con=tf.constant([1,1,2,3,4])"
   ]
  },
  {
   "cell_type": "code",
   "execution_count": 22,
   "id": "2e5a712c",
   "metadata": {},
   "outputs": [
    {
     "data": {
      "text/plain": [
       "<tf.Tensor: shape=(5,), dtype=int32, numpy=array([1, 1, 2, 3, 4])>"
      ]
     },
     "execution_count": 22,
     "metadata": {},
     "output_type": "execute_result"
    }
   ],
   "source": [
    "t_con"
   ]
  },
  {
   "cell_type": "code",
   "execution_count": 23,
   "id": "b97a03d7",
   "metadata": {},
   "outputs": [
    {
     "data": {
      "text/plain": [
       "<tf.Variable 'Variable:0' shape=(5,) dtype=int32, numpy=array([1, 1, 2, 3, 4])>"
      ]
     },
     "execution_count": 23,
     "metadata": {},
     "output_type": "execute_result"
    }
   ],
   "source": [
    "tf.Variable(t_con)"
   ]
  },
  {
   "cell_type": "markdown",
   "id": "56514630",
   "metadata": {},
   "source": [
    "# create tf variable with different shahpe"
   ]
  },
  {
   "cell_type": "code",
   "execution_count": 25,
   "id": "e9e7f605",
   "metadata": {},
   "outputs": [],
   "source": [
    "t_2d=tf.Variable([[2,3],[3,4]])"
   ]
  },
  {
   "cell_type": "code",
   "execution_count": 26,
   "id": "51e67c0c",
   "metadata": {},
   "outputs": [
    {
     "data": {
      "text/plain": [
       "<tf.Variable 'Variable:0' shape=(2, 2) dtype=int32, numpy=\n",
       "array([[2, 3],\n",
       "       [3, 4]])>"
      ]
     },
     "execution_count": 26,
     "metadata": {},
     "output_type": "execute_result"
    }
   ],
   "source": [
    "t_2d"
   ]
  },
  {
   "cell_type": "code",
   "execution_count": 27,
   "id": "2bb1ebab",
   "metadata": {},
   "outputs": [],
   "source": [
    "t_2d=tf.Variable([[2,3],[4,5]],shape=(2,2),dtype=\"float32\")"
   ]
  },
  {
   "cell_type": "code",
   "execution_count": 28,
   "id": "4bec0a9b",
   "metadata": {},
   "outputs": [
    {
     "data": {
      "text/plain": [
       "<tf.Variable 'Variable:0' shape=(2, 2) dtype=float32, numpy=\n",
       "array([[2., 3.],\n",
       "       [4., 5.]], dtype=float32)>"
      ]
     },
     "execution_count": 28,
     "metadata": {},
     "output_type": "execute_result"
    }
   ],
   "source": [
    "t_2d"
   ]
  },
  {
   "cell_type": "code",
   "execution_count": null,
   "id": "f4582bd9",
   "metadata": {},
   "outputs": [],
   "source": []
  },
  {
   "cell_type": "code",
   "execution_count": null,
   "id": "fa9f1915",
   "metadata": {},
   "outputs": [],
   "source": [
    "tf.reshape(a, (2,1))"
   ]
  }
 ],
 "metadata": {
  "kernelspec": {
   "display_name": "Python 3 (ipykernel)",
   "language": "python",
   "name": "python3"
  },
  "language_info": {
   "codemirror_mode": {
    "name": "ipython",
    "version": 3
   },
   "file_extension": ".py",
   "mimetype": "text/x-python",
   "name": "python",
   "nbconvert_exporter": "python",
   "pygments_lexer": "ipython3",
   "version": "3.9.7"
  }
 },
 "nbformat": 4,
 "nbformat_minor": 5
}
